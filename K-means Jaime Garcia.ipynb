{
 "cells": [
  {
   "cell_type": "markdown",
   "id": "steady-locator",
   "metadata": {},
   "source": [
    "# Solemene N°2 Jaime Garcia"
   ]
  },
  {
   "cell_type": "markdown",
   "id": "bigger-quantity",
   "metadata": {},
   "source": [
    "### Objetivo específico: Realizar una comparativa de las características de agrupamiento que se desarrollan en el algoritmo K-means y agglomerativeClustering."
   ]
  },
  {
   "cell_type": "markdown",
   "id": "willing-right",
   "metadata": {},
   "source": [
    "#### Objetivo: Usando el conjunto de datos dado, desarrollará un modelo predictivo para predecir qué pacientes diabéticos hospitalizados serán readmitidos por su condición en una fecha posterior y utilizará un enfoque de K-Means para proponer un conjunto no trivial de grupos de pacientes."
   ]
  },
  {
   "cell_type": "markdown",
   "id": "suspended-welding",
   "metadata": {},
   "source": [
    "## Importacion de Librerias necesarias para el algoritmo"
   ]
  },
  {
   "cell_type": "code",
   "execution_count": 21,
   "id": "gorgeous-south",
   "metadata": {},
   "outputs": [],
   "source": [
    "import numpy as np\n",
    "import matplotlib.pyplot as plt\n",
    "import pandas as pd\n",
    "import seaborn as sb\n",
    "from sklearn.metrics import silhouette_samples, silhouette_score\n",
    "from sklearn.preprocessing import StandardScaler,MinMaxScaler\n",
    "from sklearn.cluster import KMeans\n",
    "from sklearn import metrics \n",
    "from scipy.spatial.distance import cdist,pdist\n",
    "from sklearn.metrics import classification_report, confusion_matrix\n",
    "from sklearn.decomposition import PCA"
   ]
  },
  {
   "cell_type": "markdown",
   "id": "artistic-syndrome",
   "metadata": {},
   "source": [
    "### Llamado al dataframe"
   ]
  },
  {
   "cell_type": "code",
   "execution_count": 22,
   "id": "motivated-pregnancy",
   "metadata": {},
   "outputs": [],
   "source": [
    "data = pd.read_csv('ejemplo.csv',)"
   ]
  },
  {
   "cell_type": "markdown",
   "id": "invisible-piece",
   "metadata": {},
   "source": [
    "### Visualizanción incial del DataFrame"
   ]
  },
  {
   "cell_type": "code",
   "execution_count": 23,
   "id": "black-buyer",
   "metadata": {},
   "outputs": [
    {
     "data": {
      "text/html": [
       "<div>\n",
       "<style scoped>\n",
       "    .dataframe tbody tr th:only-of-type {\n",
       "        vertical-align: middle;\n",
       "    }\n",
       "\n",
       "    .dataframe tbody tr th {\n",
       "        vertical-align: top;\n",
       "    }\n",
       "\n",
       "    .dataframe thead th {\n",
       "        text-align: right;\n",
       "    }\n",
       "</style>\n",
       "<table border=\"1\" class=\"dataframe\">\n",
       "  <thead>\n",
       "    <tr style=\"text-align: right;\">\n",
       "      <th></th>\n",
       "      <th>encounter_id</th>\n",
       "      <th>patient_nbr</th>\n",
       "      <th>race</th>\n",
       "      <th>gender</th>\n",
       "      <th>age</th>\n",
       "      <th>weight</th>\n",
       "      <th>admission_type_id</th>\n",
       "      <th>discharge_disposition_id</th>\n",
       "      <th>admission_source_id</th>\n",
       "      <th>time_in_hospital</th>\n",
       "      <th>...</th>\n",
       "      <th>citoglipton</th>\n",
       "      <th>insulin</th>\n",
       "      <th>glyburide-metformin</th>\n",
       "      <th>glipizide-metformin</th>\n",
       "      <th>glimepiride-pioglitazone</th>\n",
       "      <th>metformin-rosiglitazone</th>\n",
       "      <th>metformin-pioglitazone</th>\n",
       "      <th>change</th>\n",
       "      <th>diabetesMed</th>\n",
       "      <th>readmitted</th>\n",
       "    </tr>\n",
       "  </thead>\n",
       "  <tbody>\n",
       "    <tr>\n",
       "      <th>0</th>\n",
       "      <td>2278392</td>\n",
       "      <td>8222157</td>\n",
       "      <td>Caucasian</td>\n",
       "      <td>Female</td>\n",
       "      <td>[0-10)</td>\n",
       "      <td>?</td>\n",
       "      <td>6</td>\n",
       "      <td>25</td>\n",
       "      <td>1</td>\n",
       "      <td>1</td>\n",
       "      <td>...</td>\n",
       "      <td>No</td>\n",
       "      <td>No</td>\n",
       "      <td>No</td>\n",
       "      <td>No</td>\n",
       "      <td>No</td>\n",
       "      <td>No</td>\n",
       "      <td>No</td>\n",
       "      <td>No</td>\n",
       "      <td>No</td>\n",
       "      <td>NO</td>\n",
       "    </tr>\n",
       "    <tr>\n",
       "      <th>1</th>\n",
       "      <td>149190</td>\n",
       "      <td>55629189</td>\n",
       "      <td>Caucasian</td>\n",
       "      <td>Female</td>\n",
       "      <td>[10-20)</td>\n",
       "      <td>?</td>\n",
       "      <td>1</td>\n",
       "      <td>1</td>\n",
       "      <td>7</td>\n",
       "      <td>3</td>\n",
       "      <td>...</td>\n",
       "      <td>No</td>\n",
       "      <td>Up</td>\n",
       "      <td>No</td>\n",
       "      <td>No</td>\n",
       "      <td>No</td>\n",
       "      <td>No</td>\n",
       "      <td>No</td>\n",
       "      <td>Ch</td>\n",
       "      <td>Yes</td>\n",
       "      <td>&gt;30</td>\n",
       "    </tr>\n",
       "    <tr>\n",
       "      <th>2</th>\n",
       "      <td>64410</td>\n",
       "      <td>86047875</td>\n",
       "      <td>AfricanAmerican</td>\n",
       "      <td>Female</td>\n",
       "      <td>[20-30)</td>\n",
       "      <td>?</td>\n",
       "      <td>1</td>\n",
       "      <td>1</td>\n",
       "      <td>7</td>\n",
       "      <td>2</td>\n",
       "      <td>...</td>\n",
       "      <td>No</td>\n",
       "      <td>No</td>\n",
       "      <td>No</td>\n",
       "      <td>No</td>\n",
       "      <td>No</td>\n",
       "      <td>No</td>\n",
       "      <td>No</td>\n",
       "      <td>No</td>\n",
       "      <td>Yes</td>\n",
       "      <td>NO</td>\n",
       "    </tr>\n",
       "    <tr>\n",
       "      <th>3</th>\n",
       "      <td>500364</td>\n",
       "      <td>82442376</td>\n",
       "      <td>Caucasian</td>\n",
       "      <td>Male</td>\n",
       "      <td>[30-40)</td>\n",
       "      <td>?</td>\n",
       "      <td>1</td>\n",
       "      <td>1</td>\n",
       "      <td>7</td>\n",
       "      <td>2</td>\n",
       "      <td>...</td>\n",
       "      <td>No</td>\n",
       "      <td>Up</td>\n",
       "      <td>No</td>\n",
       "      <td>No</td>\n",
       "      <td>No</td>\n",
       "      <td>No</td>\n",
       "      <td>No</td>\n",
       "      <td>Ch</td>\n",
       "      <td>Yes</td>\n",
       "      <td>NO</td>\n",
       "    </tr>\n",
       "    <tr>\n",
       "      <th>4</th>\n",
       "      <td>16680</td>\n",
       "      <td>42519267</td>\n",
       "      <td>Caucasian</td>\n",
       "      <td>Male</td>\n",
       "      <td>[40-50)</td>\n",
       "      <td>?</td>\n",
       "      <td>1</td>\n",
       "      <td>1</td>\n",
       "      <td>7</td>\n",
       "      <td>1</td>\n",
       "      <td>...</td>\n",
       "      <td>No</td>\n",
       "      <td>Steady</td>\n",
       "      <td>No</td>\n",
       "      <td>No</td>\n",
       "      <td>No</td>\n",
       "      <td>No</td>\n",
       "      <td>No</td>\n",
       "      <td>Ch</td>\n",
       "      <td>Yes</td>\n",
       "      <td>NO</td>\n",
       "    </tr>\n",
       "  </tbody>\n",
       "</table>\n",
       "<p>5 rows × 50 columns</p>\n",
       "</div>"
      ],
      "text/plain": [
       "   encounter_id  patient_nbr             race  gender      age weight  \\\n",
       "0       2278392      8222157        Caucasian  Female   [0-10)      ?   \n",
       "1        149190     55629189        Caucasian  Female  [10-20)      ?   \n",
       "2         64410     86047875  AfricanAmerican  Female  [20-30)      ?   \n",
       "3        500364     82442376        Caucasian    Male  [30-40)      ?   \n",
       "4         16680     42519267        Caucasian    Male  [40-50)      ?   \n",
       "\n",
       "   admission_type_id  discharge_disposition_id  admission_source_id  \\\n",
       "0                  6                        25                    1   \n",
       "1                  1                         1                    7   \n",
       "2                  1                         1                    7   \n",
       "3                  1                         1                    7   \n",
       "4                  1                         1                    7   \n",
       "\n",
       "   time_in_hospital  ... citoglipton insulin  glyburide-metformin  \\\n",
       "0                 1  ...          No      No                   No   \n",
       "1                 3  ...          No      Up                   No   \n",
       "2                 2  ...          No      No                   No   \n",
       "3                 2  ...          No      Up                   No   \n",
       "4                 1  ...          No  Steady                   No   \n",
       "\n",
       "   glipizide-metformin  glimepiride-pioglitazone  metformin-rosiglitazone  \\\n",
       "0                   No                        No                       No   \n",
       "1                   No                        No                       No   \n",
       "2                   No                        No                       No   \n",
       "3                   No                        No                       No   \n",
       "4                   No                        No                       No   \n",
       "\n",
       "   metformin-pioglitazone  change diabetesMed readmitted  \n",
       "0                      No      No          No         NO  \n",
       "1                      No      Ch         Yes        >30  \n",
       "2                      No      No         Yes         NO  \n",
       "3                      No      Ch         Yes         NO  \n",
       "4                      No      Ch         Yes         NO  \n",
       "\n",
       "[5 rows x 50 columns]"
      ]
     },
     "execution_count": 23,
     "metadata": {},
     "output_type": "execute_result"
    }
   ],
   "source": [
    "data.head()"
   ]
  },
  {
   "cell_type": "code",
   "execution_count": 24,
   "id": "skilled-cabinet",
   "metadata": {},
   "outputs": [
    {
     "data": {
      "text/plain": [
       "(998, 50)"
      ]
     },
     "execution_count": 24,
     "metadata": {},
     "output_type": "execute_result"
    }
   ],
   "source": [
    " data.shape"
   ]
  },
  {
   "cell_type": "code",
   "execution_count": 25,
   "id": "canadian-guidance",
   "metadata": {},
   "outputs": [
    {
     "name": "stdout",
     "output_type": "stream",
     "text": [
      "Total de valores nulos de encounter_id = 0\n",
      "Total de valores nulos de patient_nbr = 0\n",
      "Total de valores nulos de race = 31\n",
      "Total de valores nulos de gender = 0\n",
      "Total de valores nulos de age = 0\n",
      "Total de valores nulos de weight = 998\n",
      "Total de valores nulos de admission_type_id = 0\n",
      "Total de valores nulos de discharge_disposition_id = 0\n",
      "Total de valores nulos de admission_source_id = 0\n",
      "Total de valores nulos de time_in_hospital = 0\n",
      "Total de valores nulos de payer_code = 998\n",
      "Total de valores nulos de medical_specialty = 322\n",
      "Total de valores nulos de num_lab_procedures = 0\n",
      "Total de valores nulos de num_procedures = 0\n",
      "Total de valores nulos de num_medications = 0\n",
      "Total de valores nulos de number_outpatient = 0\n",
      "Total de valores nulos de number_emergency = 0\n",
      "Total de valores nulos de number_inpatient = 0\n",
      "Total de valores nulos de diag_1 = 1\n",
      "Total de valores nulos de diag_2 = 9\n",
      "Total de valores nulos de diag_3 = 34\n",
      "Total de valores nulos de number_diagnoses = 0\n",
      "Total de valores nulos de max_glu_serum = 0\n",
      "Total de valores nulos de A1Cresult = 0\n",
      "Total de valores nulos de metformin = 0\n",
      "Total de valores nulos de repaglinide = 0\n",
      "Total de valores nulos de nateglinide = 0\n",
      "Total de valores nulos de chlorpropamide = 0\n",
      "Total de valores nulos de glimepiride = 0\n",
      "Total de valores nulos de acetohexamide = 0\n",
      "Total de valores nulos de glipizide = 0\n",
      "Total de valores nulos de glyburide = 0\n",
      "Total de valores nulos de tolbutamide = 0\n",
      "Total de valores nulos de pioglitazone = 0\n",
      "Total de valores nulos de rosiglitazone = 0\n",
      "Total de valores nulos de acarbose = 0\n",
      "Total de valores nulos de miglitol = 0\n",
      "Total de valores nulos de troglitazone = 0\n",
      "Total de valores nulos de tolazamide = 0\n",
      "Total de valores nulos de examide = 0\n",
      "Total de valores nulos de citoglipton = 0\n",
      "Total de valores nulos de insulin = 0\n",
      "Total de valores nulos de glyburide-metformin = 0\n",
      "Total de valores nulos de glipizide-metformin = 0\n",
      "Total de valores nulos de glimepiride-pioglitazone = 0\n",
      "Total de valores nulos de metformin-rosiglitazone = 0\n",
      "Total de valores nulos de metformin-pioglitazone = 0\n",
      "Total de valores nulos de change = 0\n",
      "Total de valores nulos de diabetesMed = 0\n",
      "Total de valores nulos de readmitted = 0\n"
     ]
    }
   ],
   "source": [
    "for feature in data.columns:\n",
    "    null = [x for x in data[feature] if x == '?']\n",
    "    print('Total de valores nulos de', feature, '=', len(null))"
   ]
  },
  {
   "cell_type": "code",
   "execution_count": 26,
   "id": "minus-sending",
   "metadata": {},
   "outputs": [],
   "source": [
    "targets = data.readmitted"
   ]
  },
  {
   "cell_type": "code",
   "execution_count": 27,
   "id": "flying-korea",
   "metadata": {},
   "outputs": [],
   "source": [
    "data = data[['num_lab_procedures','num_procedures','num_medications','number_outpatient','number_emergency','number_inpatient','number_diagnoses','gender']]"
   ]
  },
  {
   "cell_type": "code",
   "execution_count": 28,
   "id": "medical-anniversary",
   "metadata": {
    "scrolled": true
   },
   "outputs": [
    {
     "data": {
      "text/plain": [
       "num_lab_procedures     int64\n",
       "num_procedures         int64\n",
       "num_medications        int64\n",
       "number_outpatient      int64\n",
       "number_emergency       int64\n",
       "number_inpatient       int64\n",
       "number_diagnoses       int64\n",
       "gender                object\n",
       "dtype: object"
      ]
     },
     "execution_count": 28,
     "metadata": {},
     "output_type": "execute_result"
    }
   ],
   "source": [
    "data.dtypes"
   ]
  },
  {
   "cell_type": "markdown",
   "id": "preceding-reset",
   "metadata": {},
   "source": [
    "### Remplazando las variables categoricas como genero  y readmicion por variables numericas "
   ]
  },
  {
   "cell_type": "code",
   "execution_count": 29,
   "id": "incredible-harvest",
   "metadata": {},
   "outputs": [],
   "source": [
    "data['gender'] = data['gender'].replace('Female',0).replace('Male',1)"
   ]
  },
  {
   "cell_type": "code",
   "execution_count": 30,
   "id": "bound-lemon",
   "metadata": {},
   "outputs": [],
   "source": [
    "targets = targets.replace('NO',0).replace('>30',1).replace('<30',2)"
   ]
  },
  {
   "cell_type": "code",
   "execution_count": 31,
   "id": "plain-revolution",
   "metadata": {},
   "outputs": [
    {
     "data": {
      "text/plain": [
       "array([0, 1, 2], dtype=int64)"
      ]
     },
     "execution_count": 31,
     "metadata": {},
     "output_type": "execute_result"
    }
   ],
   "source": [
    " # Vemos cuantas personas hay de cada categoria (raza de cada persona)\n",
    "targets.unique()"
   ]
  },
  {
   "cell_type": "code",
   "execution_count": 32,
   "id": "cloudy-literature",
   "metadata": {},
   "outputs": [],
   "source": [
    "data = data[data['gender'] !=  'Unknown/Invalid']\n"
   ]
  },
  {
   "cell_type": "code",
   "execution_count": 33,
   "id": "compliant-friendship",
   "metadata": {},
   "outputs": [
    {
     "data": {
      "text/plain": [
       "gender\n",
       "0    523\n",
       "1    475\n",
       "dtype: int64"
      ]
     },
     "execution_count": 33,
     "metadata": {},
     "output_type": "execute_result"
    }
   ],
   "source": [
    " # Vemos cuantas personas hay de cada categoria (raza de cada persona)\n",
    "data.groupby('gender').size()"
   ]
  },
  {
   "cell_type": "markdown",
   "id": "stylish-palestine",
   "metadata": {},
   "source": [
    "### Visualizacion de distribución de las categorías"
   ]
  },
  {
   "cell_type": "code",
   "execution_count": 34,
   "id": "norman-giving",
   "metadata": {},
   "outputs": [
    {
     "data": {
      "image/png": "[encoded data removed]",
      "text/plain": [
       "<Figure size 432x288 with 9 Axes>"
      ]
     },
     "metadata": {
      "needs_background": "light"
     },
     "output_type": "display_data"
    }
   ],
   "source": [
    "data.drop(['gender'],1).hist()\n",
    "plt.show()"
   ]
  },
  {
   "cell_type": "code",
   "execution_count": 36,
   "id": "permanent-settle",
   "metadata": {},
   "outputs": [
    {
     "name": "stdout",
     "output_type": "stream",
     "text": [
      "[[ 4.76826347e+01  1.49101796e+00  1.34191617e+01  3.59281437e-02\n",
      "   2.39520958e-02  2.39520958e-01  6.76946108e+00  4.94011976e-01]\n",
      " [ 1.31166667e+01  1.83333333e+00  1.23333333e+01  1.33333333e-01\n",
      "   1.66666667e-02  2.00000000e-01  5.80000000e+00  4.66666667e-01]\n",
      " [ 6.12085106e+01  1.27659574e+00  1.41617021e+01  2.55319149e-02\n",
      "   2.97872340e-02  1.91489362e-01  6.82127660e+00  4.63829787e-01]\n",
      " [ 7.56046512e+01  2.58914729e+00  2.38372093e+01  1.55038760e-01\n",
      "  -6.93889390e-18  1.47286822e-01  7.72093023e+00  4.65116279e-01]\n",
      " [ 3.44125000e+01  1.69583333e+00  1.23333333e+01  2.50000000e-02\n",
      "  -1.04083409e-17  2.29166667e-01  6.18333333e+00  4.70833333e-01]]\n"
     ]
    }
   ],
   "source": [
    "kmeans = KMeans(n_clusters=5).fit(data)\n",
    "centroids = kmeans.cluster_centers_\n",
    "print(centroids)"
   ]
  },
  {
   "cell_type": "markdown",
   "id": "bridal-marine",
   "metadata": {},
   "source": [
    "### Obtener el clúster a través del Metodo del Codo"
   ]
  },
  {
   "cell_type": "code",
   "execution_count": 37,
   "id": "minor-maria",
   "metadata": {},
   "outputs": [
    {
     "data": {
      "image/png": "[encoded data removed]",
      "text/plain": [
       "<Figure size 432x288 with 1 Axes>"
      ]
     },
     "metadata": {
      "needs_background": "light"
     },
     "output_type": "display_data"
    }
   ],
   "source": [
    "distortions = []\n",
    "Ks = [2, 3, 4, 5, 10]\n",
    "for k in Ks:\n",
    "    kmeans = KMeans(n_clusters = k)\n",
    "    model = kmeans.fit(data)\n",
    "    centers = model.cluster_centers_\n",
    "    distortions.append(model.inertia_)\n",
    "\n",
    "plt.plot(Ks, distortions)\n",
    "plt.xlabel('k')\n",
    "plt.ylabel('Distortion')\n",
    "plt.title('Método del codo ')\n",
    "plt.show()\n"
   ]
  },
  {
   "cell_type": "markdown",
   "id": "controversial-vulnerability",
   "metadata": {},
   "source": [
    "### Obtener el clúster a través del Metodo Silueta"
   ]
  },
  {
   "cell_type": "code",
   "execution_count": 40,
   "id": "significant-marks",
   "metadata": {},
   "outputs": [
    {
     "data": {
      "image/png": "[encoded data removed]",
      "text/plain": [
       "<Figure size 432x288 with 1 Axes>"
      ]
     },
     "metadata": {
      "needs_background": "light"
     },
     "output_type": "display_data"
    }
   ],
   "source": [
    "range_n_clusters = [2,3,4,5,6,7,8,9,10]\n",
    "silhouettes  = []\n",
    "for n_clusters in range_n_clusters:\n",
    "    \n",
    "    clusterer = KMeans(n_clusters=n_clusters, random_state=10)\n",
    "    cluster_labels = clusterer.fit_predict(data)\n",
    "    \n",
    "\n",
    "    silhouette_avg = silhouette_score(data, cluster_labels)\n",
    "    silhouettes.append(silhouette_avg)\n",
    "    \n",
    "\n",
    "plt.bar(range_n_clusters, silhouettes)\n",
    "plt.xlabel('Number of clusters', fontsize = 20)\n",
    "plt.ylabel('score', fontsize = 20)\n",
    "plt.title('Metodo Silueta', fontsize = 20)\n",
    "plt.show()"
   ]
  },
  {
   "cell_type": "code",
   "execution_count": 42,
   "id": "collected-plane",
   "metadata": {},
   "outputs": [
    {
     "data": {
      "text/plain": [
       "KMeans(n_clusters=3)"
      ]
     },
     "execution_count": 42,
     "metadata": {},
     "output_type": "execute_result"
    }
   ],
   "source": [
    "algoritmo = KMeans(n_clusters = 3, init = 'k-means++', \n",
    "                   max_iter = 300, n_init = 10)\n",
    "algoritmo.fit(data)"
   ]
  },
  {
   "cell_type": "code",
   "execution_count": 47,
   "id": "younger-blair",
   "metadata": {},
   "outputs": [
    {
     "data": {
      "image/png": "[encoded data removed]",
      "text/plain": [
       "<Figure size 432x288 with 1 Axes>"
      ]
     },
     "metadata": {
      "needs_background": "light"
     },
     "output_type": "display_data"
    }
   ],
   "source": [
    "pca_model = PCA(n_components = 2)\n",
    "pca_model.fit(data)\n",
    "pca = pca_model.transform(data) \n",
    "\n",
    "centroides, etiquetas = algoritmo.cluster_centers_, algoritmo.labels_\n",
    "centroides_pca = pca_model.transform(centroides)\n",
    "colores = ['blue', 'red', 'green']\n",
    "colores_cluster = [colores[etiquetas[i]] for i in range(len(pca))]\n",
    "plt.scatter(pca[:, 0], pca[:, 1], c = colores_cluster, \n",
    "            marker = 'o',alpha = 0.4)\n",
    "\n",
    "plt.scatter(centroides_pca[:, 0], centroides_pca[:, 1],\n",
    "            marker = 'x', s = 100, linewidths = 3, c = colores)\n",
    "\n",
    "xvector = pca_model.components_[0] * max(pca[:,0])\n",
    "yvector = pca_model.components_[1] * max(pca[:,1])\n",
    "columnas = data.columns\n",
    "plt.title(\"3 clusters\", fontsize=\"20\")\n",
    "plt.show()"
   ]
  },
  {
   "cell_type": "markdown",
   "id": "downtown-pierre",
   "metadata": {},
   "source": [
    "### Análisis del gráfico\n",
    "Es posible ver los puntos de datos en forma de tres grupos. Los puntos de datos en la parte inferior derecha pertenecen a los pacientes con mas probabilidad de reingresar al recinto hospitalitario. Se puede apreciar bastantes outliers que contiene el dataset que pueden alterar el resultado de este, en donde por motivos de tiempos no se realizo una limpieza exhaustiva para quitar estos datos anomalos."
   ]
  },
  {
   "cell_type": "code",
   "execution_count": 46,
   "id": "silent-program",
   "metadata": {},
   "outputs": [
    {
     "name": "stdout",
     "output_type": "stream",
     "text": [
      "              precision    recall  f1-score   support\n",
      "\n",
      "           0       0.45      0.46      0.45       487\n",
      "           1       0.36      0.24      0.29       417\n",
      "           2       0.10      0.26      0.15        94\n",
      "\n",
      "    accuracy                           0.35       998\n",
      "   macro avg       0.31      0.32      0.30       998\n",
      "weighted avg       0.38      0.35      0.36       998\n",
      "\n"
     ]
    }
   ],
   "source": [
    "print(classification_report(targets,algoritmo.labels_))\n"
   ]
  },
  {
   "cell_type": "markdown",
   "id": "natural-empty",
   "metadata": {},
   "source": [
    "### Conclusiones en el otro Notebook "
   ]
  }
 ],
 "metadata": {
  "kernelspec": {
   "display_name": "Python 3",
   "language": "python",
   "name": "python3"
  },
  "language_info": {
   "codemirror_mode": {
    "name": "ipython",
    "version": 3
   },
   "file_extension": ".py",
   "mimetype": "text/x-python",
   "name": "python",
   "nbconvert_exporter": "python",
   "pygments_lexer": "ipython3",
   "version": "3.8.5"
  }
 },
 "nbformat": 4,
 "nbformat_minor": 5
}
