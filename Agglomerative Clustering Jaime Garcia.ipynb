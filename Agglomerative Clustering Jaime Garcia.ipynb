{
 "cells": [
  {
   "cell_type": "markdown",
   "id": "alien-sally",
   "metadata": {},
   "source": [
    "# Solemene N°2 Jaime Garcia"
   ]
  },
  {
   "cell_type": "markdown",
   "id": "logical-convention",
   "metadata": {},
   "source": [
    "Objetivo específico: Realizar una comparativa de las características de agrupamiento que se desarrollan en el algoritmo K-means y agglomerativeClustering."
   ]
  },
  {
   "cell_type": "markdown",
   "id": "perceived-findings",
   "metadata": {},
   "source": [
    "Objetivo: Usando el conjunto de datos dado, desarrollará un modelo predictivo para predecir qué pacientes diabéticos hospitalizados serán readmitidos por su condición en una fecha posterior y utilizará un enfoque de K-Means para proponer un conjunto no trivial de grupos de pacientes."
   ]
  },
  {
   "cell_type": "markdown",
   "id": "concrete-proposition",
   "metadata": {},
   "source": [
    "# Importacion de Librerias necesarias para el algoritmo"
   ]
  },
  {
   "cell_type": "code",
   "execution_count": 71,
   "id": "charitable-facility",
   "metadata": {},
   "outputs": [],
   "source": [
    "import pandas as pd\n",
    "import numpy as np\n",
    "import matplotlib.pyplot as plt\n",
    "import seaborn as sb\n",
    "from sklearn.decomposition import PCA\n",
    "from sklearn.metrics import classification_report"
   ]
  },
  {
   "cell_type": "markdown",
   "id": "incorporate-david",
   "metadata": {},
   "source": [
    "### Llamado al dataframe"
   ]
  },
  {
   "cell_type": "code",
   "execution_count": 72,
   "id": "settled-width",
   "metadata": {},
   "outputs": [],
   "source": [
    "data = pd.read_csv('ejemplo.csv') "
   ]
  },
  {
   "cell_type": "markdown",
   "id": "greek-thinking",
   "metadata": {},
   "source": [
    "### Visualizanción incial del DataFrame"
   ]
  },
  {
   "cell_type": "code",
   "execution_count": 73,
   "id": "taken-great",
   "metadata": {},
   "outputs": [
    {
     "data": {
      "text/html": [
       "<div>\n",
       "<style scoped>\n",
       "    .dataframe tbody tr th:only-of-type {\n",
       "        vertical-align: middle;\n",
       "    }\n",
       "\n",
       "    .dataframe tbody tr th {\n",
       "        vertical-align: top;\n",
       "    }\n",
       "\n",
       "    .dataframe thead th {\n",
       "        text-align: right;\n",
       "    }\n",
       "</style>\n",
       "<table border=\"1\" class=\"dataframe\">\n",
       "  <thead>\n",
       "    <tr style=\"text-align: right;\">\n",
       "      <th></th>\n",
       "      <th>encounter_id</th>\n",
       "      <th>patient_nbr</th>\n",
       "      <th>race</th>\n",
       "      <th>gender</th>\n",
       "      <th>age</th>\n",
       "      <th>weight</th>\n",
       "      <th>admission_type_id</th>\n",
       "      <th>discharge_disposition_id</th>\n",
       "      <th>admission_source_id</th>\n",
       "      <th>time_in_hospital</th>\n",
       "      <th>...</th>\n",
       "      <th>citoglipton</th>\n",
       "      <th>insulin</th>\n",
       "      <th>glyburide-metformin</th>\n",
       "      <th>glipizide-metformin</th>\n",
       "      <th>glimepiride-pioglitazone</th>\n",
       "      <th>metformin-rosiglitazone</th>\n",
       "      <th>metformin-pioglitazone</th>\n",
       "      <th>change</th>\n",
       "      <th>diabetesMed</th>\n",
       "      <th>readmitted</th>\n",
       "    </tr>\n",
       "  </thead>\n",
       "  <tbody>\n",
       "    <tr>\n",
       "      <th>0</th>\n",
       "      <td>2278392</td>\n",
       "      <td>8222157</td>\n",
       "      <td>Caucasian</td>\n",
       "      <td>Female</td>\n",
       "      <td>[0-10)</td>\n",
       "      <td>?</td>\n",
       "      <td>6</td>\n",
       "      <td>25</td>\n",
       "      <td>1</td>\n",
       "      <td>1</td>\n",
       "      <td>...</td>\n",
       "      <td>No</td>\n",
       "      <td>No</td>\n",
       "      <td>No</td>\n",
       "      <td>No</td>\n",
       "      <td>No</td>\n",
       "      <td>No</td>\n",
       "      <td>No</td>\n",
       "      <td>No</td>\n",
       "      <td>No</td>\n",
       "      <td>NO</td>\n",
       "    </tr>\n",
       "    <tr>\n",
       "      <th>1</th>\n",
       "      <td>149190</td>\n",
       "      <td>55629189</td>\n",
       "      <td>Caucasian</td>\n",
       "      <td>Female</td>\n",
       "      <td>[10-20)</td>\n",
       "      <td>?</td>\n",
       "      <td>1</td>\n",
       "      <td>1</td>\n",
       "      <td>7</td>\n",
       "      <td>3</td>\n",
       "      <td>...</td>\n",
       "      <td>No</td>\n",
       "      <td>Up</td>\n",
       "      <td>No</td>\n",
       "      <td>No</td>\n",
       "      <td>No</td>\n",
       "      <td>No</td>\n",
       "      <td>No</td>\n",
       "      <td>Ch</td>\n",
       "      <td>Yes</td>\n",
       "      <td>&gt;30</td>\n",
       "    </tr>\n",
       "    <tr>\n",
       "      <th>2</th>\n",
       "      <td>64410</td>\n",
       "      <td>86047875</td>\n",
       "      <td>AfricanAmerican</td>\n",
       "      <td>Female</td>\n",
       "      <td>[20-30)</td>\n",
       "      <td>?</td>\n",
       "      <td>1</td>\n",
       "      <td>1</td>\n",
       "      <td>7</td>\n",
       "      <td>2</td>\n",
       "      <td>...</td>\n",
       "      <td>No</td>\n",
       "      <td>No</td>\n",
       "      <td>No</td>\n",
       "      <td>No</td>\n",
       "      <td>No</td>\n",
       "      <td>No</td>\n",
       "      <td>No</td>\n",
       "      <td>No</td>\n",
       "      <td>Yes</td>\n",
       "      <td>NO</td>\n",
       "    </tr>\n",
       "    <tr>\n",
       "      <th>3</th>\n",
       "      <td>500364</td>\n",
       "      <td>82442376</td>\n",
       "      <td>Caucasian</td>\n",
       "      <td>Male</td>\n",
       "      <td>[30-40)</td>\n",
       "      <td>?</td>\n",
       "      <td>1</td>\n",
       "      <td>1</td>\n",
       "      <td>7</td>\n",
       "      <td>2</td>\n",
       "      <td>...</td>\n",
       "      <td>No</td>\n",
       "      <td>Up</td>\n",
       "      <td>No</td>\n",
       "      <td>No</td>\n",
       "      <td>No</td>\n",
       "      <td>No</td>\n",
       "      <td>No</td>\n",
       "      <td>Ch</td>\n",
       "      <td>Yes</td>\n",
       "      <td>NO</td>\n",
       "    </tr>\n",
       "    <tr>\n",
       "      <th>4</th>\n",
       "      <td>16680</td>\n",
       "      <td>42519267</td>\n",
       "      <td>Caucasian</td>\n",
       "      <td>Male</td>\n",
       "      <td>[40-50)</td>\n",
       "      <td>?</td>\n",
       "      <td>1</td>\n",
       "      <td>1</td>\n",
       "      <td>7</td>\n",
       "      <td>1</td>\n",
       "      <td>...</td>\n",
       "      <td>No</td>\n",
       "      <td>Steady</td>\n",
       "      <td>No</td>\n",
       "      <td>No</td>\n",
       "      <td>No</td>\n",
       "      <td>No</td>\n",
       "      <td>No</td>\n",
       "      <td>Ch</td>\n",
       "      <td>Yes</td>\n",
       "      <td>NO</td>\n",
       "    </tr>\n",
       "  </tbody>\n",
       "</table>\n",
       "<p>5 rows × 50 columns</p>\n",
       "</div>"
      ],
      "text/plain": [
       "   encounter_id  patient_nbr             race  gender      age weight  \\\n",
       "0       2278392      8222157        Caucasian  Female   [0-10)      ?   \n",
       "1        149190     55629189        Caucasian  Female  [10-20)      ?   \n",
       "2         64410     86047875  AfricanAmerican  Female  [20-30)      ?   \n",
       "3        500364     82442376        Caucasian    Male  [30-40)      ?   \n",
       "4         16680     42519267        Caucasian    Male  [40-50)      ?   \n",
       "\n",
       "   admission_type_id  discharge_disposition_id  admission_source_id  \\\n",
       "0                  6                        25                    1   \n",
       "1                  1                         1                    7   \n",
       "2                  1                         1                    7   \n",
       "3                  1                         1                    7   \n",
       "4                  1                         1                    7   \n",
       "\n",
       "   time_in_hospital  ... citoglipton insulin  glyburide-metformin  \\\n",
       "0                 1  ...          No      No                   No   \n",
       "1                 3  ...          No      Up                   No   \n",
       "2                 2  ...          No      No                   No   \n",
       "3                 2  ...          No      Up                   No   \n",
       "4                 1  ...          No  Steady                   No   \n",
       "\n",
       "   glipizide-metformin  glimepiride-pioglitazone  metformin-rosiglitazone  \\\n",
       "0                   No                        No                       No   \n",
       "1                   No                        No                       No   \n",
       "2                   No                        No                       No   \n",
       "3                   No                        No                       No   \n",
       "4                   No                        No                       No   \n",
       "\n",
       "   metformin-pioglitazone  change diabetesMed readmitted  \n",
       "0                      No      No          No         NO  \n",
       "1                      No      Ch         Yes        >30  \n",
       "2                      No      No         Yes         NO  \n",
       "3                      No      Ch         Yes         NO  \n",
       "4                      No      Ch         Yes         NO  \n",
       "\n",
       "[5 rows x 50 columns]"
      ]
     },
     "execution_count": 73,
     "metadata": {},
     "output_type": "execute_result"
    }
   ],
   "source": [
    "data = pd.DataFrame(data)\n",
    "data.head()"
   ]
  },
  {
   "cell_type": "code",
   "execution_count": 74,
   "id": "informed-hobby",
   "metadata": {},
   "outputs": [
    {
     "data": {
      "text/plain": [
       "(998, 50)"
      ]
     },
     "execution_count": 74,
     "metadata": {},
     "output_type": "execute_result"
    }
   ],
   "source": [
    " data.shape"
   ]
  },
  {
   "cell_type": "code",
   "execution_count": 75,
   "id": "automated-savannah",
   "metadata": {},
   "outputs": [
    {
     "name": "stdout",
     "output_type": "stream",
     "text": [
      "<class 'pandas.core.frame.DataFrame'>\n",
      "RangeIndex: 998 entries, 0 to 997\n",
      "Data columns (total 50 columns):\n",
      " #   Column                    Non-Null Count  Dtype \n",
      "---  ------                    --------------  ----- \n",
      " 0   encounter_id              998 non-null    int64 \n",
      " 1   patient_nbr               998 non-null    int64 \n",
      " 2   race                      998 non-null    object\n",
      " 3   gender                    998 non-null    object\n",
      " 4   age                       998 non-null    object\n",
      " 5   weight                    998 non-null    object\n",
      " 6   admission_type_id         998 non-null    int64 \n",
      " 7   discharge_disposition_id  998 non-null    int64 \n",
      " 8   admission_source_id       998 non-null    int64 \n",
      " 9   time_in_hospital          998 non-null    int64 \n",
      " 10  payer_code                998 non-null    object\n",
      " 11  medical_specialty         998 non-null    object\n",
      " 12  num_lab_procedures        998 non-null    int64 \n",
      " 13  num_procedures            998 non-null    int64 \n",
      " 14  num_medications           998 non-null    int64 \n",
      " 15  number_outpatient         998 non-null    int64 \n",
      " 16  number_emergency          998 non-null    int64 \n",
      " 17  number_inpatient          998 non-null    int64 \n",
      " 18  diag_1                    998 non-null    object\n",
      " 19  diag_2                    998 non-null    object\n",
      " 20  diag_3                    998 non-null    object\n",
      " 21  number_diagnoses          998 non-null    int64 \n",
      " 22  max_glu_serum             998 non-null    object\n",
      " 23  A1Cresult                 998 non-null    object\n",
      " 24  metformin                 998 non-null    object\n",
      " 25  repaglinide               998 non-null    object\n",
      " 26  nateglinide               998 non-null    object\n",
      " 27  chlorpropamide            998 non-null    object\n",
      " 28  glimepiride               998 non-null    object\n",
      " 29  acetohexamide             998 non-null    object\n",
      " 30  glipizide                 998 non-null    object\n",
      " 31  glyburide                 998 non-null    object\n",
      " 32  tolbutamide               998 non-null    object\n",
      " 33  pioglitazone              998 non-null    object\n",
      " 34  rosiglitazone             998 non-null    object\n",
      " 35  acarbose                  998 non-null    object\n",
      " 36  miglitol                  998 non-null    object\n",
      " 37  troglitazone              998 non-null    object\n",
      " 38  tolazamide                998 non-null    object\n",
      " 39  examide                   998 non-null    object\n",
      " 40  citoglipton               998 non-null    object\n",
      " 41  insulin                   998 non-null    object\n",
      " 42  glyburide-metformin       998 non-null    object\n",
      " 43  glipizide-metformin       998 non-null    object\n",
      " 44  glimepiride-pioglitazone  998 non-null    object\n",
      " 45  metformin-rosiglitazone   998 non-null    object\n",
      " 46  metformin-pioglitazone    998 non-null    object\n",
      " 47  change                    998 non-null    object\n",
      " 48  diabetesMed               998 non-null    object\n",
      " 49  readmitted                998 non-null    object\n",
      "dtypes: int64(13), object(37)\n",
      "memory usage: 390.0+ KB\n"
     ]
    }
   ],
   "source": [
    "data.info()"
   ]
  },
  {
   "cell_type": "code",
   "execution_count": 76,
   "id": "damaged-large",
   "metadata": {},
   "outputs": [
    {
     "name": "stdout",
     "output_type": "stream",
     "text": [
      "Total de valores nulos de encounter_id = 0\n",
      "Total de valores nulos de patient_nbr = 0\n",
      "Total de valores nulos de race = 31\n",
      "Total de valores nulos de gender = 0\n",
      "Total de valores nulos de age = 0\n",
      "Total de valores nulos de weight = 998\n",
      "Total de valores nulos de admission_type_id = 0\n",
      "Total de valores nulos de discharge_disposition_id = 0\n",
      "Total de valores nulos de admission_source_id = 0\n",
      "Total de valores nulos de time_in_hospital = 0\n",
      "Total de valores nulos de payer_code = 998\n",
      "Total de valores nulos de medical_specialty = 322\n",
      "Total de valores nulos de num_lab_procedures = 0\n",
      "Total de valores nulos de num_procedures = 0\n",
      "Total de valores nulos de num_medications = 0\n",
      "Total de valores nulos de number_outpatient = 0\n",
      "Total de valores nulos de number_emergency = 0\n",
      "Total de valores nulos de number_inpatient = 0\n",
      "Total de valores nulos de diag_1 = 1\n",
      "Total de valores nulos de diag_2 = 9\n",
      "Total de valores nulos de diag_3 = 34\n",
      "Total de valores nulos de number_diagnoses = 0\n",
      "Total de valores nulos de max_glu_serum = 0\n",
      "Total de valores nulos de A1Cresult = 0\n",
      "Total de valores nulos de metformin = 0\n",
      "Total de valores nulos de repaglinide = 0\n",
      "Total de valores nulos de nateglinide = 0\n",
      "Total de valores nulos de chlorpropamide = 0\n",
      "Total de valores nulos de glimepiride = 0\n",
      "Total de valores nulos de acetohexamide = 0\n",
      "Total de valores nulos de glipizide = 0\n",
      "Total de valores nulos de glyburide = 0\n",
      "Total de valores nulos de tolbutamide = 0\n",
      "Total de valores nulos de pioglitazone = 0\n",
      "Total de valores nulos de rosiglitazone = 0\n",
      "Total de valores nulos de acarbose = 0\n",
      "Total de valores nulos de miglitol = 0\n",
      "Total de valores nulos de troglitazone = 0\n",
      "Total de valores nulos de tolazamide = 0\n",
      "Total de valores nulos de examide = 0\n",
      "Total de valores nulos de citoglipton = 0\n",
      "Total de valores nulos de insulin = 0\n",
      "Total de valores nulos de glyburide-metformin = 0\n",
      "Total de valores nulos de glipizide-metformin = 0\n",
      "Total de valores nulos de glimepiride-pioglitazone = 0\n",
      "Total de valores nulos de metformin-rosiglitazone = 0\n",
      "Total de valores nulos de metformin-pioglitazone = 0\n",
      "Total de valores nulos de change = 0\n",
      "Total de valores nulos de diabetesMed = 0\n",
      "Total de valores nulos de readmitted = 0\n"
     ]
    }
   ],
   "source": [
    "for feature in data.columns:\n",
    "    null = [x for x in data[feature] if x == '?']\n",
    "    print('Total de valores nulos de', feature, '=', len(null))"
   ]
  },
  {
   "cell_type": "code",
   "execution_count": 77,
   "id": "exposed-livestock",
   "metadata": {},
   "outputs": [],
   "source": [
    "targets = data.readmitted"
   ]
  },
  {
   "cell_type": "markdown",
   "id": "common-panel",
   "metadata": {},
   "source": [
    "### Remplazando las variables categoricas como genero  y readmicion por variables numericas "
   ]
  },
  {
   "cell_type": "code",
   "execution_count": 78,
   "id": "minimal-louisiana",
   "metadata": {},
   "outputs": [],
   "source": [
    "targets = targets.replace('NO',0).replace('>30',1).replace('<30',2)"
   ]
  },
  {
   "cell_type": "code",
   "execution_count": 79,
   "id": "accessory-techno",
   "metadata": {},
   "outputs": [],
   "source": [
    "data['gender'] = data['gender'].replace('Female',0).replace('Male',1)"
   ]
  },
  {
   "cell_type": "code",
   "execution_count": 80,
   "id": "diverse-terror",
   "metadata": {},
   "outputs": [
    {
     "data": {
      "text/html": [
       "<div>\n",
       "<style scoped>\n",
       "    .dataframe tbody tr th:only-of-type {\n",
       "        vertical-align: middle;\n",
       "    }\n",
       "\n",
       "    .dataframe tbody tr th {\n",
       "        vertical-align: top;\n",
       "    }\n",
       "\n",
       "    .dataframe thead th {\n",
       "        text-align: right;\n",
       "    }\n",
       "</style>\n",
       "<table border=\"1\" class=\"dataframe\">\n",
       "  <thead>\n",
       "    <tr style=\"text-align: right;\">\n",
       "      <th></th>\n",
       "      <th>encounter_id</th>\n",
       "      <th>patient_nbr</th>\n",
       "      <th>race</th>\n",
       "      <th>gender</th>\n",
       "      <th>age</th>\n",
       "      <th>weight</th>\n",
       "      <th>admission_type_id</th>\n",
       "      <th>discharge_disposition_id</th>\n",
       "      <th>admission_source_id</th>\n",
       "      <th>time_in_hospital</th>\n",
       "      <th>...</th>\n",
       "      <th>citoglipton</th>\n",
       "      <th>insulin</th>\n",
       "      <th>glyburide-metformin</th>\n",
       "      <th>glipizide-metformin</th>\n",
       "      <th>glimepiride-pioglitazone</th>\n",
       "      <th>metformin-rosiglitazone</th>\n",
       "      <th>metformin-pioglitazone</th>\n",
       "      <th>change</th>\n",
       "      <th>diabetesMed</th>\n",
       "      <th>readmitted</th>\n",
       "    </tr>\n",
       "  </thead>\n",
       "  <tbody>\n",
       "    <tr>\n",
       "      <th>0</th>\n",
       "      <td>2278392</td>\n",
       "      <td>8222157</td>\n",
       "      <td>Caucasian</td>\n",
       "      <td>0</td>\n",
       "      <td>[0-10)</td>\n",
       "      <td>?</td>\n",
       "      <td>6</td>\n",
       "      <td>25</td>\n",
       "      <td>1</td>\n",
       "      <td>1</td>\n",
       "      <td>...</td>\n",
       "      <td>No</td>\n",
       "      <td>No</td>\n",
       "      <td>No</td>\n",
       "      <td>No</td>\n",
       "      <td>No</td>\n",
       "      <td>No</td>\n",
       "      <td>No</td>\n",
       "      <td>No</td>\n",
       "      <td>No</td>\n",
       "      <td>NO</td>\n",
       "    </tr>\n",
       "    <tr>\n",
       "      <th>1</th>\n",
       "      <td>149190</td>\n",
       "      <td>55629189</td>\n",
       "      <td>Caucasian</td>\n",
       "      <td>0</td>\n",
       "      <td>[10-20)</td>\n",
       "      <td>?</td>\n",
       "      <td>1</td>\n",
       "      <td>1</td>\n",
       "      <td>7</td>\n",
       "      <td>3</td>\n",
       "      <td>...</td>\n",
       "      <td>No</td>\n",
       "      <td>Up</td>\n",
       "      <td>No</td>\n",
       "      <td>No</td>\n",
       "      <td>No</td>\n",
       "      <td>No</td>\n",
       "      <td>No</td>\n",
       "      <td>Ch</td>\n",
       "      <td>Yes</td>\n",
       "      <td>&gt;30</td>\n",
       "    </tr>\n",
       "    <tr>\n",
       "      <th>2</th>\n",
       "      <td>64410</td>\n",
       "      <td>86047875</td>\n",
       "      <td>AfricanAmerican</td>\n",
       "      <td>0</td>\n",
       "      <td>[20-30)</td>\n",
       "      <td>?</td>\n",
       "      <td>1</td>\n",
       "      <td>1</td>\n",
       "      <td>7</td>\n",
       "      <td>2</td>\n",
       "      <td>...</td>\n",
       "      <td>No</td>\n",
       "      <td>No</td>\n",
       "      <td>No</td>\n",
       "      <td>No</td>\n",
       "      <td>No</td>\n",
       "      <td>No</td>\n",
       "      <td>No</td>\n",
       "      <td>No</td>\n",
       "      <td>Yes</td>\n",
       "      <td>NO</td>\n",
       "    </tr>\n",
       "    <tr>\n",
       "      <th>3</th>\n",
       "      <td>500364</td>\n",
       "      <td>82442376</td>\n",
       "      <td>Caucasian</td>\n",
       "      <td>1</td>\n",
       "      <td>[30-40)</td>\n",
       "      <td>?</td>\n",
       "      <td>1</td>\n",
       "      <td>1</td>\n",
       "      <td>7</td>\n",
       "      <td>2</td>\n",
       "      <td>...</td>\n",
       "      <td>No</td>\n",
       "      <td>Up</td>\n",
       "      <td>No</td>\n",
       "      <td>No</td>\n",
       "      <td>No</td>\n",
       "      <td>No</td>\n",
       "      <td>No</td>\n",
       "      <td>Ch</td>\n",
       "      <td>Yes</td>\n",
       "      <td>NO</td>\n",
       "    </tr>\n",
       "    <tr>\n",
       "      <th>4</th>\n",
       "      <td>16680</td>\n",
       "      <td>42519267</td>\n",
       "      <td>Caucasian</td>\n",
       "      <td>1</td>\n",
       "      <td>[40-50)</td>\n",
       "      <td>?</td>\n",
       "      <td>1</td>\n",
       "      <td>1</td>\n",
       "      <td>7</td>\n",
       "      <td>1</td>\n",
       "      <td>...</td>\n",
       "      <td>No</td>\n",
       "      <td>Steady</td>\n",
       "      <td>No</td>\n",
       "      <td>No</td>\n",
       "      <td>No</td>\n",
       "      <td>No</td>\n",
       "      <td>No</td>\n",
       "      <td>Ch</td>\n",
       "      <td>Yes</td>\n",
       "      <td>NO</td>\n",
       "    </tr>\n",
       "  </tbody>\n",
       "</table>\n",
       "<p>5 rows × 50 columns</p>\n",
       "</div>"
      ],
      "text/plain": [
       "   encounter_id  patient_nbr             race  gender      age weight  \\\n",
       "0       2278392      8222157        Caucasian       0   [0-10)      ?   \n",
       "1        149190     55629189        Caucasian       0  [10-20)      ?   \n",
       "2         64410     86047875  AfricanAmerican       0  [20-30)      ?   \n",
       "3        500364     82442376        Caucasian       1  [30-40)      ?   \n",
       "4         16680     42519267        Caucasian       1  [40-50)      ?   \n",
       "\n",
       "   admission_type_id  discharge_disposition_id  admission_source_id  \\\n",
       "0                  6                        25                    1   \n",
       "1                  1                         1                    7   \n",
       "2                  1                         1                    7   \n",
       "3                  1                         1                    7   \n",
       "4                  1                         1                    7   \n",
       "\n",
       "   time_in_hospital  ... citoglipton insulin  glyburide-metformin  \\\n",
       "0                 1  ...          No      No                   No   \n",
       "1                 3  ...          No      Up                   No   \n",
       "2                 2  ...          No      No                   No   \n",
       "3                 2  ...          No      Up                   No   \n",
       "4                 1  ...          No  Steady                   No   \n",
       "\n",
       "   glipizide-metformin  glimepiride-pioglitazone  metformin-rosiglitazone  \\\n",
       "0                   No                        No                       No   \n",
       "1                   No                        No                       No   \n",
       "2                   No                        No                       No   \n",
       "3                   No                        No                       No   \n",
       "4                   No                        No                       No   \n",
       "\n",
       "   metformin-pioglitazone  change diabetesMed readmitted  \n",
       "0                      No      No          No         NO  \n",
       "1                      No      Ch         Yes        >30  \n",
       "2                      No      No         Yes         NO  \n",
       "3                      No      Ch         Yes         NO  \n",
       "4                      No      Ch         Yes         NO  \n",
       "\n",
       "[5 rows x 50 columns]"
      ]
     },
     "execution_count": 80,
     "metadata": {},
     "output_type": "execute_result"
    }
   ],
   "source": [
    "data = data[data['gender'] !=  'Unknown/Invalid']\n",
    "data.head()"
   ]
  },
  {
   "cell_type": "code",
   "execution_count": 81,
   "id": "general-climb",
   "metadata": {},
   "outputs": [],
   "source": [
    "data = data[['num_lab_procedures','num_procedures','num_medications','number_outpatient','number_emergency','number_inpatient','number_diagnoses','gender']]"
   ]
  },
  {
   "cell_type": "markdown",
   "id": "chief-finance",
   "metadata": {},
   "source": [
    "### Se seleccionan las columnas de interes"
   ]
  },
  {
   "cell_type": "code",
   "execution_count": 82,
   "id": "described-italian",
   "metadata": {},
   "outputs": [
    {
     "data": {
      "text/html": [
       "<div>\n",
       "<style scoped>\n",
       "    .dataframe tbody tr th:only-of-type {\n",
       "        vertical-align: middle;\n",
       "    }\n",
       "\n",
       "    .dataframe tbody tr th {\n",
       "        vertical-align: top;\n",
       "    }\n",
       "\n",
       "    .dataframe thead th {\n",
       "        text-align: right;\n",
       "    }\n",
       "</style>\n",
       "<table border=\"1\" class=\"dataframe\">\n",
       "  <thead>\n",
       "    <tr style=\"text-align: right;\">\n",
       "      <th></th>\n",
       "      <th>0</th>\n",
       "      <th>1</th>\n",
       "    </tr>\n",
       "  </thead>\n",
       "  <tbody>\n",
       "    <tr>\n",
       "      <th>0</th>\n",
       "      <td>0</td>\n",
       "      <td>0</td>\n",
       "    </tr>\n",
       "    <tr>\n",
       "      <th>1</th>\n",
       "      <td>0</td>\n",
       "      <td>0</td>\n",
       "    </tr>\n",
       "    <tr>\n",
       "      <th>2</th>\n",
       "      <td>2</td>\n",
       "      <td>0</td>\n",
       "    </tr>\n",
       "    <tr>\n",
       "      <th>3</th>\n",
       "      <td>0</td>\n",
       "      <td>0</td>\n",
       "    </tr>\n",
       "    <tr>\n",
       "      <th>4</th>\n",
       "      <td>0</td>\n",
       "      <td>0</td>\n",
       "    </tr>\n",
       "    <tr>\n",
       "      <th>...</th>\n",
       "      <td>...</td>\n",
       "      <td>...</td>\n",
       "    </tr>\n",
       "    <tr>\n",
       "      <th>993</th>\n",
       "      <td>0</td>\n",
       "      <td>0</td>\n",
       "    </tr>\n",
       "    <tr>\n",
       "      <th>994</th>\n",
       "      <td>0</td>\n",
       "      <td>0</td>\n",
       "    </tr>\n",
       "    <tr>\n",
       "      <th>995</th>\n",
       "      <td>0</td>\n",
       "      <td>0</td>\n",
       "    </tr>\n",
       "    <tr>\n",
       "      <th>996</th>\n",
       "      <td>0</td>\n",
       "      <td>0</td>\n",
       "    </tr>\n",
       "    <tr>\n",
       "      <th>997</th>\n",
       "      <td>0</td>\n",
       "      <td>0</td>\n",
       "    </tr>\n",
       "  </tbody>\n",
       "</table>\n",
       "<p>998 rows × 2 columns</p>\n",
       "</div>"
      ],
      "text/plain": [
       "     0  1\n",
       "0    0  0\n",
       "1    0  0\n",
       "2    2  0\n",
       "3    0  0\n",
       "4    0  0\n",
       "..  .. ..\n",
       "993  0  0\n",
       "994  0  0\n",
       "995  0  0\n",
       "996  0  0\n",
       "997  0  0\n",
       "\n",
       "[998 rows x 2 columns]"
      ]
     },
     "execution_count": 82,
     "metadata": {},
     "output_type": "execute_result"
    }
   ],
   "source": [
    "data_selected = data.iloc[:, 3:5].values\n",
    "pd.DataFrame(data_selected)"
   ]
  },
  {
   "cell_type": "markdown",
   "id": "grave-butter",
   "metadata": {},
   "source": [
    "### Obtener el clúster a través del Dendrograma"
   ]
  },
  {
   "cell_type": "code",
   "execution_count": 91,
   "id": "external-electricity",
   "metadata": {},
   "outputs": [
    {
     "data": {
      "image/png": "[encoded data removed]",
      "text/plain": [
       "<Figure size 720x504 with 1 Axes>"
      ]
     },
     "metadata": {
      "needs_background": "light"
     },
     "output_type": "display_data"
    }
   ],
   "source": [
    "import scipy.cluster.hierarchy as shc\n",
    "plt.figure(figsize=(10, 7))\n",
    "plt.title(\"Dendogramas de pacientes\")\n",
    "dend = shc.dendrogram(shc.linkage(data_selected, method='ward'))"
   ]
  },
  {
   "cell_type": "markdown",
   "id": "careful-robinson",
   "metadata": {},
   "source": [
    "Respecto a las 2 categorias que existen se puede apreciar como el dendrograma arroja en total 3 clusters"
   ]
  },
  {
   "cell_type": "code",
   "execution_count": 92,
   "id": "adult-swing",
   "metadata": {},
   "outputs": [
    {
     "data": {
      "text/plain": [
       "array([4, 3, 2, 1, 3, 4, 0, 0, 0, 1, 1, 3, 3, 1, 3, 0, 1, 4, 1, 1, 0, 4,\n",
       "       1, 1, 2, 4, 0, 4, 3, 3, 0, 3, 4, 1, 1, 1, 4, 4, 1, 1, 4, 4, 1, 3,\n",
       "       0, 2, 4, 2, 0, 0, 4, 1, 3, 3, 3, 3, 1, 4, 3, 2, 1, 1, 3, 3, 3, 1,\n",
       "       3, 4, 4, 3, 0, 0, 4, 1, 1, 3, 3, 3, 4, 1, 4, 3, 3, 3, 3, 4, 0, 2,\n",
       "       0, 1, 4, 1, 4, 4, 0, 2, 0, 0, 3, 0, 1, 0, 2, 3, 4, 4, 0, 4, 1, 1,\n",
       "       0, 1, 4, 4, 0, 1, 0, 0, 0, 0, 0, 0, 1, 0, 1, 0, 3, 1, 3, 3, 3, 1,\n",
       "       0, 3, 4, 0, 3, 1, 0, 3, 1, 1, 1, 4, 0, 3, 3, 2, 2, 0, 4, 1, 3, 0,\n",
       "       4, 1, 1, 4, 1, 3, 4, 1, 1, 4, 3, 1, 0, 2, 4, 4, 3, 1, 1, 3, 4, 1,\n",
       "       3, 0, 1, 4, 3, 3, 1, 4, 1, 1, 1, 3, 1, 1, 3, 0, 3, 4, 3, 4, 3, 0,\n",
       "       0, 1, 1, 3, 1, 1, 2, 1, 3, 1, 3, 1, 1, 2, 2, 3, 1, 4, 4, 3, 1, 4,\n",
       "       0, 0, 4, 3, 3, 1, 4, 4, 3, 4, 1, 0, 1, 0, 1, 3, 1, 0, 3, 3, 3, 4,\n",
       "       1, 3, 1, 0, 1, 3, 1, 4, 0, 2, 1, 4, 3, 0, 2, 0, 0, 3, 4, 0, 1, 4,\n",
       "       4, 1, 3, 4, 3, 0, 1, 0, 4, 0, 0, 3, 3, 1, 3, 0, 0, 0, 2, 0, 4, 0,\n",
       "       1, 4, 1, 1, 4, 0, 3, 3, 3, 0, 1, 0, 4, 3, 3, 3, 3, 3, 0, 0, 0, 3,\n",
       "       4, 3, 3, 1, 1, 4, 3, 4, 3, 3, 0, 0, 3, 1, 1, 0, 1, 0, 4, 4, 4, 0,\n",
       "       3, 0, 4, 2, 1, 3, 0, 0, 0, 1, 2, 1, 1, 0, 1, 2, 4, 1, 4, 0, 4, 1,\n",
       "       1, 3, 3, 3, 1, 2, 1, 4, 1, 0, 4, 1, 2, 3, 1, 3, 4, 0, 1, 3, 4, 0,\n",
       "       1, 0, 1, 1, 0, 1, 1, 0, 0, 1, 1, 3, 3, 0, 1, 4, 3, 1, 0, 0, 3, 0,\n",
       "       0, 1, 3, 0, 1, 4, 0, 0, 1, 1, 0, 4, 1, 2, 4, 0, 3, 1, 0, 0, 2, 3,\n",
       "       4, 0, 3, 2, 4, 3, 1, 3, 0, 1, 4, 0, 4, 3, 0, 1, 1, 1, 3, 1, 2, 0,\n",
       "       3, 0, 0, 4, 0, 4, 3, 3, 4, 3, 0, 0, 0, 4, 1, 3, 1, 1, 1, 0, 0, 4,\n",
       "       1, 1, 0, 0, 0, 0, 4, 1, 3, 1, 1, 4, 2, 3, 0, 0, 1, 2, 4, 4, 3, 1,\n",
       "       3, 1, 3, 0, 1, 0, 2, 4, 1, 1, 1, 3, 4, 3, 3, 1, 3, 3, 4, 1, 3, 1,\n",
       "       4, 4, 4, 2, 1, 0, 0, 3, 1, 1, 0, 0, 1, 3, 3, 0, 1, 1, 4, 4, 4, 3,\n",
       "       1, 0, 3, 3, 3, 4, 0, 4, 4, 0, 1, 1, 1, 1, 3, 1, 1, 3, 3, 3, 3, 1,\n",
       "       0, 1, 4, 4, 3, 1, 4, 4, 0, 1, 1, 4, 3, 1, 1, 4, 4, 1, 4, 3, 1, 1,\n",
       "       0, 0, 1, 0, 0, 0, 1, 1, 2, 1, 4, 3, 0, 0, 1, 3, 1, 3, 3, 4, 3, 3,\n",
       "       2, 1, 2, 4, 1, 1, 1, 1, 4, 4, 1, 1, 1, 1, 1, 3, 1, 4, 1, 0, 0, 4,\n",
       "       4, 2, 3, 1, 1, 1, 1, 0, 1, 3, 3, 0, 1, 4, 0, 3, 1, 0, 2, 3, 0, 0,\n",
       "       0, 2, 1, 1, 3, 1, 3, 4, 1, 2, 4, 1, 3, 1, 0, 3, 0, 0, 4, 0, 1, 0,\n",
       "       4, 1, 1, 1, 1, 3, 0, 4, 3, 0, 3, 3, 3, 1, 1, 1, 1, 1, 4, 1, 0, 1,\n",
       "       3, 1, 4, 1, 0, 3, 3, 3, 3, 0, 0, 3, 3, 1, 0, 1, 0, 1, 3, 2, 1, 3,\n",
       "       4, 0, 1, 4, 3, 3, 0, 3, 4, 2, 0, 3, 1, 3, 2, 3, 3, 0, 3, 1, 2, 4,\n",
       "       4, 4, 1, 3, 3, 3, 4, 0, 3, 4, 1, 3, 3, 1, 3, 4, 1, 4, 0, 3, 1, 1,\n",
       "       1, 3, 3, 4, 1, 0, 1, 1, 2, 0, 2, 1, 0, 4, 3, 1, 1, 3, 1, 1, 4, 1,\n",
       "       1, 1, 0, 3, 2, 4, 3, 1, 0, 3, 3, 0, 0, 0, 3, 0, 1, 1, 3, 0, 0, 0,\n",
       "       1, 0, 1, 1, 4, 2, 1, 0, 4, 3, 0, 1, 0, 3, 3, 0, 4, 1, 1, 3, 0, 1,\n",
       "       3, 1, 0, 1, 3, 1, 0, 1, 1, 0, 4, 1, 4, 1, 3, 4, 0, 0, 1, 1, 1, 1,\n",
       "       1, 1, 0, 1, 1, 0, 1, 3, 3, 1, 1, 4, 3, 0, 1, 3, 0, 1, 0, 3, 2, 0,\n",
       "       1, 1, 0, 1, 1, 3, 1, 3, 3, 3, 1, 0, 4, 2, 3, 0, 3, 4, 3, 0, 2, 0,\n",
       "       1, 1, 3, 3, 0, 1, 3, 3, 1, 1, 4, 0, 1, 1, 0, 3, 1, 0, 0, 0, 3, 1,\n",
       "       4, 1, 2, 1, 1, 3, 4, 1, 1, 0, 1, 0, 4, 1, 1, 0, 3, 3, 4, 0, 3, 0,\n",
       "       1, 0, 4, 1, 4, 3, 1, 0, 2, 4, 3, 1, 0, 1, 3, 1, 1, 3, 1, 3, 4, 1,\n",
       "       4, 4, 4, 1, 3, 4, 4, 3, 0, 1, 3, 4, 1, 1, 1, 3, 1, 4, 1, 1, 3, 3,\n",
       "       0, 3, 1, 3, 3, 1, 2, 0, 4, 1, 1, 1, 1, 1, 0, 1, 0, 4, 1, 3, 2, 2,\n",
       "       4, 3, 3, 3, 3, 1, 4, 3], dtype=int64)"
      ]
     },
     "execution_count": 92,
     "metadata": {},
     "output_type": "execute_result"
    }
   ],
   "source": [
    "from sklearn.cluster import AgglomerativeClustering\n",
    "cluster = AgglomerativeClustering(n_clusters=5, affinity='euclidean',linkage='ward')\n",
    "cluster.fit_predict(data)\n"
   ]
  },
  {
   "cell_type": "code",
   "execution_count": 93,
   "id": "comprehensive-congo",
   "metadata": {},
   "outputs": [],
   "source": [
    "#Se define el algoritmo con 3 clusters\n",
    "algoritmo = AgglomerativeClustering(n_clusters = 3, affinity='euclidean', linkage='ward')"
   ]
  },
  {
   "cell_type": "code",
   "execution_count": 94,
   "id": "distributed-alignment",
   "metadata": {},
   "outputs": [
    {
     "data": {
      "text/plain": [
       "AgglomerativeClustering(n_clusters=3)"
      ]
     },
     "execution_count": 94,
     "metadata": {},
     "output_type": "execute_result"
    }
   ],
   "source": [
    "algoritmo.fit(data)"
   ]
  },
  {
   "cell_type": "code",
   "execution_count": 95,
   "id": "disabled-baltimore",
   "metadata": {},
   "outputs": [],
   "source": [
    "pca_model = PCA(n_components = 2)\n",
    "pca_model.fit(data)\n",
    "pca = pca_model.transform(data) \n",
    "principalDf = pd.DataFrame(data = pca\n",
    "             , columns = ['d1', 'd2'])"
   ]
  },
  {
   "cell_type": "code",
   "execution_count": 96,
   "id": "macro-mustang",
   "metadata": {},
   "outputs": [],
   "source": [
    "df_cluster = pd.DataFrame()\n",
    "df_cluster['targets']= algoritmo.labels_ \n",
    "final = pd.concat([principalDf,df_cluster ], axis = 1)"
   ]
  },
  {
   "cell_type": "code",
   "execution_count": 97,
   "id": "tight-murder",
   "metadata": {},
   "outputs": [
    {
     "data": {
      "image/png": "[encoded data removed]",
      "text/plain": [
       "<Figure size 432x288 with 1 Axes>"
      ]
     },
     "metadata": {
      "needs_background": "light"
     },
     "output_type": "display_data"
    }
   ],
   "source": [
    "etiquetas = algoritmo.labels_\n",
    "colores = ['blue', 'red', 'green']\n",
    "colores_cluster = [colores[etiquetas[i]] for i in range(len(pca))]\n",
    "plt.scatter(pca[:, 0], pca[:, 1], c = colores_cluster, marker = 'o',alpha = 0.4)\n",
    "columnas = data.columns\n",
    "plt.title(\"3 clusters\", fontsize=\"20\")\n",
    "plt.show()"
   ]
  },
  {
   "cell_type": "markdown",
   "id": "touched-membrane",
   "metadata": {},
   "source": [
    "### Análisis del gráfico\n",
    "Es posible ver los puntos de datos en forma de tres grupos.\n",
    "Los puntos de datos en la parte inferior derecha pertenecen a los pacientes con mas probabilidad de reingresar al recinto hospitalitario.\n",
    "Se puede apreciar los outliers que contiene el dataset, en donde por motivos de tiempos no se realizo una limpieza exhaustiva para quitar estos datos anomalos.\n"
   ]
  },
  {
   "cell_type": "code",
   "execution_count": 98,
   "id": "initial-graphics",
   "metadata": {},
   "outputs": [
    {
     "name": "stdout",
     "output_type": "stream",
     "text": [
      "              precision    recall  f1-score   support\n",
      "\n",
      "           0       0.47      0.45      0.46       487\n",
      "           1       0.42      0.49      0.45       417\n",
      "           2       0.04      0.02      0.03        94\n",
      "\n",
      "    accuracy                           0.42       998\n",
      "   macro avg       0.31      0.32      0.31       998\n",
      "weighted avg       0.41      0.42      0.41       998\n",
      "\n"
     ]
    }
   ],
   "source": [
    "print(classification_report(targets,algoritmo.labels_))"
   ]
  },
  {
   "cell_type": "markdown",
   "id": "silent-press",
   "metadata": {},
   "source": [
    "## Conclusiones\n",
    "Habrá un 53% de falsos negativos de pacientes de los que no serán reingresados al recinto \n",
    "de salud pero que el modelo los considero que poseen entre menor a 30% y 30 mayor%  con posibilidad de \n",
    "reincorporarse y en realidad no lo hacen. Mientras que los pacientes con mayor a un 30% de reingresar solo tendrá efectividad en un 42% y obtendra el resto en falsos positivos. Asimismo con los pacientes que presentan menos de un 30% de reingreso que tan solo obtuvo un 4%. Esto se debe a que se tuvo que reducir en gran cantidad dataset por motivos de trabajar en igualdad de condiciones para los dos desarrollos de modelos y por tiempos educacionales. Sin embargo el desarrollo por medio de Agglometarive Clustering tuvo resultados mas precisos y con mayor rendimiento a diferencia de Kmeans, ya que en el escenario en que se trabaja de conjuntos de datos bajos es ideal para Agglometarive Clustering"
   ]
  }
 ],
 "metadata": {
  "kernelspec": {
   "display_name": "Python 3",
   "language": "python",
   "name": "python3"
  },
  "language_info": {
   "codemirror_mode": {
    "name": "ipython",
    "version": 3
   },
   "file_extension": ".py",
   "mimetype": "text/x-python",
   "name": "python",
   "nbconvert_exporter": "python",
   "pygments_lexer": "ipython3",
   "version": "3.8.5"
  }
 },
 "nbformat": 4,
 "nbformat_minor": 5
}
